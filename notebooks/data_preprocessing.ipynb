{
 "cells": [
  {
   "cell_type": "markdown",
   "id": "50712ad1",
   "metadata": {},
   "source": [
    "### 1. Configuração Inicial e Carregamento de Dados\n",
    "**Objetivo:** Preparar o ambiente de análise, importando as bibliotecas necessárias e carregando o conjunto de dados inicial.\n",
    "Fonte de Dados: Banco de dados relacional."
   ]
  },
  {
   "cell_type": "code",
   "execution_count": 111,
   "id": "47fd3a25-1d47-4265-a35d-f19fd92cc381",
   "metadata": {},
   "outputs": [],
   "source": [
    "# --- Importação de Bibliotecas Padrão e de Terceiros ---\n",
    "import os\n",
    "import re\n",
    "import ast\n",
    "import sys\n",
    "import unidecode\n",
    "import pandas as pd\n",
    "\n",
    "# --- Configuração do Caminho do Projeto para Importações Locais ---\n",
    "current_dir = os.getcwd()\n",
    "project_root = os.path.abspath(os.path.join(current_dir, '..'))\n",
    "if project_root not in sys.path:\n",
    "    sys.path.append(project_root)\n",
    "\n",
    "# --- Importação de Módulos e Funções Customizadas do Projeto ---\n",
    "from src.utils.data_cleaning import normalize_text_columns\n",
    "from src.utils.number_utils import br_to_float\n",
    "from src.services.db_manager import fetch_data_from_db\n",
    "from src.config import const"
   ]
  },
  {
   "cell_type": "code",
   "execution_count": 112,
   "id": "178399a1-98a6-41cc-bbf6-977f92e0ec21",
   "metadata": {},
   "outputs": [],
   "source": [
    "# Buscar os dados no banco de dados\n",
    "df = fetch_data_from_db(const.consulta_sql)"
   ]
  },
  {
   "cell_type": "markdown",
   "id": "44d3d504",
   "metadata": {},
   "source": [
    "### 2. Tratamento e Junção de Dados Demográficos\n",
    "\n",
    "**Objetivo:** Adicionar o índice populacional de cada município ao DataFrame de trabalho.\n",
    "**Fonte de Dados:** Arquivo com a população municipal, extraído do IBGE.\n",
    "\n",
    "**Passos:**\n",
    "1.  **Carregamento:** Leitura do arquivo de dados populacionais.\n",
    "2.  **Tratamento:** Seleção das colunas de interesse (`código_ibge`, `populacao`,`UF`) e padronização dos tipos de dados.\n",
    "3.  **Junção (`Merge`):** União do DataFrame de população com o DataFrame principal, usando o código IBGE como chave de ligação."
   ]
  },
  {
   "cell_type": "code",
   "execution_count": 113,
   "id": "fbc1e951-9bf6-498f-8a72-e8473ef19f77",
   "metadata": {},
   "outputs": [
    {
     "data": {
      "text/plain": [
       "array(['PARANAIBA', 'SANTANA DE PARNAIBA', 'HORTOLANDIA', 'PORTO VELHO',\n",
       "       'RIO BRANCO', 'MACEIO', 'FEIJO', 'OSASCO', 'RIBEIRAO PIRES',\n",
       "       'BRASILIA', 'CRUZEIRO DO SUL', 'JARAGUA DO SUL', 'BELO HORIZONTE',\n",
       "       'ITAJAI', 'VILA VELHA', 'PARNAIBA', 'BARUERI', 'PALMAS',\n",
       "       'CARIACICA', 'TERESINA', 'SAO PAULO', 'RECIFE', 'OLINDA',\n",
       "       'FORTALEZA', 'LONDRINA', 'TARAUACA', 'PALHOCA', 'MANAUS',\n",
       "       'BOA VISTA', 'CAMPO GRANDE', 'SENA MADUREIRA', 'S?O LUIS',\n",
       "       'SAO JOSE DOS CAMPOS', 'IBIPORA', 'PORTO WALTER', 'JORDAO',\n",
       "       'MACAPA', 'CURITIBA', 'MARECHAL THAUMATURGO', 'CAJAMAR', 'NITEROI',\n",
       "       'SANTA ROSA DO PURUS', '5300108', 'GOIANIA', 'RIO DE JANEIRO',\n",
       "       'SAO LUIS', 'SÃO LUÍS', 'FLORIANOPOLIS', 'BELEM', 'VARZEA GRANDE',\n",
       "       'ANAPOLIS', 'SALVADOR', 'SAO JOSE', 'SAO GABRIEL DA CACHOEIRA',\n",
       "       'ILHEUS', 'SOROCABA', 'BRASÍLIA', 'UBERABA', 'CAMACARI',\n",
       "       'BARREIRINHAS', 'MONTES CLAROS', 'NATAL', 'PIMENTA BUENO',\n",
       "       'ANANINDEUA', 'DOURADOS', 'FOZ DO IGUACU',\n",
       "       'SAO DOMINGOS DO MARANHAO', 'PELOTAS', 'DIVINOPOLIS', 'VARGINHA',\n",
       "       'PAULISTA', 'CUIABA', 'CASIMIRO DE ABREU', 'SERRA', 'SETE LAGOAS',\n",
       "       'SAO JOSE DO RIO PRETO', 'INDAIAL', 'GURUPI', 'SAO JOAO BATISTA',\n",
       "       'SINOP', 'GOIÂNIA', 'ARACAJU', 'SERRINHA', 'RIO CLARO',\n",
       "       'CANDEIAS DO JAMARI', 'CAMPO GRANDE (MS)', 'ANÁPOLIS', 'TOLEDO',\n",
       "       'PARNAMIRIM', 'VITORIA', 'SÃO PAULO', 'CONTAGEM', 'UBERLANDIA',\n",
       "       'ARAQUARI', 'COTIA', 'CAMPINAS', 'PORTO ALEGRE',\n",
       "       'GOVERNADOR VALADARES', 'OURO PRETO', 'CABIXI', 'IPAMERI',\n",
       "       'GUARAPUAVA', 'PONTA PORA', 'HUMAITA', 'PONTA GROSSA',\n",
       "       'CONCEICAO DO CASTELO', 'BARIRI', 'BETIM', 'CAXIAS DO SUL',\n",
       "       'CANOAS', 'CAMARAGIBE', 'SAO JOSE DE RIBAMAR',\n",
       "       'BALNEARIO CAMBORIU', 'JI-PARANA', 'ILHÉUS', 'ANCHIETA', 'PINHAIS',\n",
       "       'PIRACICABA', 'MARINGA', 'DIADEMA', 'MOSSORO',\n",
       "       'SANTO ANTONIO DE PADUA', 'CUIABA (MT)', 'COLORADO DO OESTE',\n",
       "       'IPATINGA', 'CAMPINA GRANDE', 'DUQUE DE CAXIAS', 'ITAJAÍ',\n",
       "       'TEOFILO OTONI', 'COLATINA', 'TAUBATE', 'GARANHUNS', 'JOAO PESSOA',\n",
       "       'GUARULHOS', 'PATOS DE MINAS', 'JUAZEIRO', 'CARUARU', 'BLUMENAU',\n",
       "       'JABOATAO DOS GUARARAPES', 'CAMBORIU', 'PAULO AFONSO', 'CACOAL',\n",
       "       'CASCAVEL', 'SANTOS', 'MANHUACU', 'ITAPEVA', 'SAO FELIX DO XINGU',\n",
       "       'FREDERICO WESTPHALEN', 'BARAO DE COTEGIPE', 'MANDIRITUBA',\n",
       "       'MARINGÁ', 'ERECHIM', 'NOVA SANTA RITA', 'ARACATUBA',\n",
       "       'SANTA MARIA', 'FORMIGA', 'THEOBROMA', 'JANDIRA', 'MARILIA',\n",
       "       'JATAI', 'BAURU', 'SÃO JOSÉ', 'OURO PRETO DO OESTE',\n",
       "       'SANTA CRUZ DO SUL', 'PETROLINA', 'SANTAREM', 'PRESIDENTE MEDICI',\n",
       "       'CACHOEIRO DE ITAPEMIRIM', 'APARECIDA DE GOIANIA', 'CANDEIAS',\n",
       "       'ARARUAMA', 'SAO JOSE DOS PINHAIS', 'IGARASSU', 'POMERODE',\n",
       "       'NILOPOLIS', 'JOÃO PESSOA', 'UNAI', 'BOTUCATU',\n",
       "       'CORONEL DOMINGOS SOARES', 'SAO JOAO DE MERITI', 'QUIRINOPOLIS',\n",
       "       'VITORIA DA CONQUISTA', 'ALTA FLORESTA', 'SANTO ANTONIO DE JESUS',\n",
       "       'MAGE', 'SANTO ANTONIO DA PLATINA', 'CAMBE', 'EPITACIOLANDIA',\n",
       "       'JUIZ DE FORA', 'SANTA CRUZ DO MONTE CASTELO', 'CABEDELO',\n",
       "       'MOGI DAS CRUZES', 'ILHABELA', 'INHUMAS', 'POUSO ALEGRE',\n",
       "       'NOVA ARACA', 'BENTO GONCALVES', 'MUZAMBINHO', 'VILHENA'],\n",
       "      dtype=object)"
      ]
     },
     "execution_count": 113,
     "metadata": {},
     "output_type": "execute_result"
    }
   ],
   "source": [
    "# Analisando os valores únicos na coluna 'municipioFornecedor'\n",
    "df.municipioFornecedor.unique()"
   ]
  },
  {
   "cell_type": "markdown",
   "id": "0b41fdf7",
   "metadata": {},
   "source": [
    "2.1 **Carregamento:**"
   ]
  },
  {
   "cell_type": "code",
   "execution_count": 114,
   "id": "df5288d5-01a2-43ba-bb8a-e4d337323a3d",
   "metadata": {},
   "outputs": [],
   "source": [
    "# Carregar os dados demográficos dos municípios\n",
    "mun = pd.read_csv(\n",
    "    r\"../data/raw/ibge_municipios.csv\",\n",
    "    sep=\";\",\n",
    "    encoding=\"utf-8\"\n",
    ")"
   ]
  },
  {
   "cell_type": "markdown",
   "id": "3ad2f749",
   "metadata": {},
   "source": [
    "2.2 **Tratamento**"
   ]
  },
  {
   "cell_type": "code",
   "execution_count": 115,
   "id": "1b78885f",
   "metadata": {},
   "outputs": [],
   "source": [
    "# Normalização: Deixa os nomes em Letra maiuscula e remove a acentuação\n",
    "mun = normalize_text_columns(mun)\n",
    "mun[\"COD. IBGE\"] = mun[\"COD. UF\"].astype(str).str.zfill(2) + mun[\"COD. MUNIC\"].astype(str).str.zfill(5)\n",
    "df['municipioFornecedor'] = df['municipioFornecedor'].apply(lambda x: unidecode.unidecode(x.upper()))"
   ]
  },
  {
   "cell_type": "code",
   "execution_count": 116,
   "id": "c3d34361",
   "metadata": {},
   "outputs": [
    {
     "name": "stdout",
     "output_type": "stream",
     "text": [
      "Municípios não encontrados:\n",
      "['S?O LUIS' '5300108' 'CAMPO GRANDE (MS)' 'CUIABA (MT)'\n",
      " 'SANTA CRUZ DO MONTE CASTELO']\n"
     ]
    }
   ],
   "source": [
    "# Verificando quais municípios do DataFrame original não existem no DataFrame de municípios\n",
    "\n",
    "mun['municipio']=mun['NOME DO MUNICÍPIO']\n",
    "\n",
    "mun_set = set(mun['municipio'])\n",
    "df2 = df.copy()\n",
    "df2['existe_em_mun'] = df['municipioFornecedor'].apply(lambda x: x in mun_set)\n",
    "\n",
    "nao_encontrados = df[~df2['existe_em_mun']]['municipioFornecedor'].unique()\n",
    "print(\"Municípios não encontrados:\")\n",
    "print(nao_encontrados)"
   ]
  },
  {
   "cell_type": "code",
   "execution_count": 117,
   "id": "ee82955e",
   "metadata": {},
   "outputs": [],
   "source": [
    "# Correções manuais para alguns municípios conhecidos\n",
    "\n",
    "ajustes = {\n",
    "    'S?O LUIS': 'SAO LUIS',\n",
    "    '5300108': 'BRASILIA',\n",
    "    'CAMPO GRANDE (MS)': 'CAMPO GRANDE',\n",
    "    'CUIABA (MT)': 'CUIABA',\n",
    "    'SANTA CRUZ DO MONTE CASTELO': 'SANTA CRUZ DE MONTE CASTELO'\n",
    "}\n",
    "\n",
    "df['municipioFornecedor'] = df['municipioFornecedor'].replace(ajustes)\n"
   ]
  },
  {
   "cell_type": "markdown",
   "id": "68a97bc1",
   "metadata": {},
   "source": [
    "2.3 **Junção (`Merge`)**"
   ]
  },
  {
   "cell_type": "code",
   "execution_count": 118,
   "id": "012ff619",
   "metadata": {},
   "outputs": [],
   "source": [
    "df = df.merge(\n",
    "    mun[['municipio', 'UF', 'POPULAÇÃO ESTIMADA', 'COD. IBGE']],\n",
    "    left_on='municipioFornecedor',\n",
    "    right_on='municipio',\n",
    "    how='left'\n",
    ")"
   ]
  },
  {
   "cell_type": "markdown",
   "id": "bcfecc41",
   "metadata": {},
   "source": [
    "## 3. Engenharia de Features e Ajustes Finais\n",
    "**Objetivo:** Limpar, transformar e preparar as colunas do DataFrame principal para a fase de análise, garantindo a consistência e o formato correto dos dados.\n",
    "\n",
    "**Passos:**\n",
    "1.  **Tratamento das features:** Realizando tratamento inicial das colunas para melhor vizualização e melhor exploração dos dados.\n",
    "2.  **Criando uma tabebela auxiliar:** Criar um DataFrame auxiliar (`df_itens`) onde cada linha representa um único item de uma nota fiscal, permitindo análises em nível de produto.\n",
    "3.  **Separação das Features da coluna Auxiliar** filtramos as colunas mais importantes para a tabela auxiliar"
   ]
  },
  {
   "cell_type": "markdown",
   "id": "16e5bfd8",
   "metadata": {},
   "source": [
    "3.1 **Tratamento das features:**"
   ]
  },
  {
   "cell_type": "code",
   "execution_count": 119,
   "id": "7e36c747",
   "metadata": {},
   "outputs": [],
   "source": [
    "# Renomear colunas para nomes mais amigáveis\n",
    "df = df.rename(columns={\n",
    "    'id': 'ID',\n",
    "    'orgaoDestinatario': 'ORGAO',\n",
    "    'nomeFornecedor': 'FORNECEDOR',\n",
    "    'cnpjFornecedor': 'CNPJ',\n",
    "    'municipioFornecedor': 'MUNICIPIO',\n",
    "    \"valorNotaFiscal\" : 'VALOR_NF',\n",
    "    'itensNotaFiscal': 'ITENS',\n",
    "    'tipoEventoMaisRecente': 'TIPO_EVENTO',\n",
    "    'dataEmissao': 'DATA',\n",
    "    'eventosNotaFiscal': 'EVENTOS',\n",
    "    'chaveNotaFiscal': 'CHAVE_NF',\n",
    "    'municipio': 'MUNICIPIO_MUN',\n",
    "    'UF': 'UF',\n",
    "    'POPULAÇÃO ESTIMADA': 'POPULACAO',\n",
    "    'COD. IBGE': 'COD_IBGE'\n",
    "})"
   ]
  },
  {
   "cell_type": "code",
   "execution_count": 120,
   "id": "59c5dbdc",
   "metadata": {},
   "outputs": [],
   "source": [
    "# Remove tudo que não é número\n",
    "df['CNPJ'] = df['CNPJ'].apply(lambda x: re.sub(r'\\D', '', str(x)))"
   ]
  },
  {
   "cell_type": "code",
   "execution_count": 121,
   "id": "11c2c96b",
   "metadata": {},
   "outputs": [],
   "source": [
    "# Converter VALOR_NF de string para float\n",
    "df['VALOR_NF'] = df['VALOR_NF'].str.replace('.', '', regex=False)  # remove separador de milhar\n",
    "df['VALOR_NF'] = df['VALOR_NF'].str.replace(',', '.', regex=False)  # converte vírgula decimal para ponto\n",
    "df['VALOR_NF'] = pd.to_numeric(df['VALOR_NF'], errors='coerce')\n"
   ]
  },
  {
   "cell_type": "code",
   "execution_count": 122,
   "id": "a24f4dd8",
   "metadata": {},
   "outputs": [],
   "source": [
    "# Garantir que POPULACAO seja numérico\n",
    "df['POPULACAO'] = pd.to_numeric(df['POPULACAO'], errors='coerce')"
   ]
  },
  {
   "cell_type": "code",
   "execution_count": 123,
   "id": "d416b8a0",
   "metadata": {},
   "outputs": [],
   "source": [
    "# Remover linhas inválidas\n",
    "df = df.dropna(subset=['VALOR_NF', 'POPULACAO'])"
   ]
  },
  {
   "cell_type": "code",
   "execution_count": 124,
   "id": "b673b943",
   "metadata": {},
   "outputs": [],
   "source": [
    "# Converter DATA para o formato datetime\n",
    "df['DATA'] = pd.to_datetime(df['DATA'], dayfirst=True)\n",
    "\n",
    "# Criar coluna Ano-Mês\n",
    "df['ANO_MES'] = df['DATA'].dt.to_period('M')"
   ]
  },
  {
   "cell_type": "markdown",
   "id": "3c2f02e9",
   "metadata": {},
   "source": [
    "3.2 **Criando uma tabebela auxiliar:**"
   ]
  },
  {
   "cell_type": "code",
   "execution_count": 125,
   "id": "8f15bfcd",
   "metadata": {},
   "outputs": [],
   "source": [
    "# Converter a coluna ITENS de string para lista de dicionários\n",
    "df['ITENS'] = df['ITENS'].apply(ast.literal_eval)\n",
    "\n",
    "# Explodir a lista em várias linhas (cada item vira uma linha)\n",
    "df_itens = df.explode('ITENS')\n",
    "\n",
    "# Transformar o dicionário de cada item em colunas\n",
    "df_itens = pd.concat([df_itens.drop(columns=['ITENS']),\n",
    "                      df_itens['ITENS'].apply(pd.Series)], axis=1)\n",
    "\n",
    "# Selecionar apenas as colunas que você quer manter + CHAVE_NF\n",
    "colunas_desejadas = ['CHAVE_NF', 'descricaoProdutoServico', 'codigoNcmSh', \n",
    "                     'ncmSh', 'cfop', 'quantidade', 'unidade', 'valorUnitario', 'valor']\n",
    "\n",
    "df_itens_aux = df_itens[colunas_desejadas]\n",
    "\n",
    "df_itens['quantidade'] = df_itens['quantidade'].apply(br_to_float)\n",
    "df_itens['valorUnitario'] = df_itens['valorUnitario'].apply(br_to_float)\n",
    "df_itens['valor'] = df_itens['valor'].apply(br_to_float)\n",
    "\n"
   ]
  },
  {
   "cell_type": "markdown",
   "id": "0663204d",
   "metadata": {},
   "source": [
    "3.3 **Separação das Features da coluna Auxiliar**"
   ]
  },
  {
   "cell_type": "code",
   "execution_count": 126,
   "id": "c068fd9f",
   "metadata": {},
   "outputs": [],
   "source": [
    "colunas_desejadas = ['descricaoProdutoServico', 'CHAVE_NF', 'codigoNcmSh', 'ncmSh', \n",
    "                     'cfop', 'quantidade', 'unidade', 'valorUnitario', 'valor']\n",
    "\n",
    "df_itens = df_itens[colunas_desejadas]"
   ]
  },
  {
   "cell_type": "code",
   "execution_count": 131,
   "id": "67a14e37",
   "metadata": {},
   "outputs": [
    {
     "data": {
      "text/html": [
       "<div>\n",
       "<style scoped>\n",
       "    .dataframe tbody tr th:only-of-type {\n",
       "        vertical-align: middle;\n",
       "    }\n",
       "\n",
       "    .dataframe tbody tr th {\n",
       "        vertical-align: top;\n",
       "    }\n",
       "\n",
       "    .dataframe thead th {\n",
       "        text-align: right;\n",
       "    }\n",
       "</style>\n",
       "<table border=\"1\" class=\"dataframe\">\n",
       "  <thead>\n",
       "    <tr style=\"text-align: right;\">\n",
       "      <th></th>\n",
       "      <th>descricaoProdutoServico</th>\n",
       "      <th>CHAVE_NF</th>\n",
       "      <th>codigoNcmSh</th>\n",
       "      <th>ncmSh</th>\n",
       "      <th>cfop</th>\n",
       "      <th>quantidade</th>\n",
       "      <th>unidade</th>\n",
       "      <th>valorUnitario</th>\n",
       "      <th>valor</th>\n",
       "    </tr>\n",
       "  </thead>\n",
       "  <tbody>\n",
       "    <tr>\n",
       "      <th>3548</th>\n",
       "      <td>SUPER SAFETY LUVA SUPER LATEX TAM 7</td>\n",
       "      <td>12230929296383000179550020000001131016664015</td>\n",
       "      <td>40151900</td>\n",
       "      <td>Outras luvas de borracha vulcanizada, não endu...</td>\n",
       "      <td>5102</td>\n",
       "      <td>15.0</td>\n",
       "      <td>PARES</td>\n",
       "      <td>14.90</td>\n",
       "      <td>223.5</td>\n",
       "    </tr>\n",
       "    <tr>\n",
       "      <th>1066</th>\n",
       "      <td>HF.ALHO SUPER ALHO TRITURADO POTE</td>\n",
       "      <td>35230775315333025012550010000424171751243482</td>\n",
       "      <td>7032090</td>\n",
       "      <td>Alhos, frescos ou refrigerados, exceto para se...</td>\n",
       "      <td>5102</td>\n",
       "      <td>5.0</td>\n",
       "      <td>UND9</td>\n",
       "      <td>2.78</td>\n",
       "      <td>13.9</td>\n",
       "    </tr>\n",
       "  </tbody>\n",
       "</table>\n",
       "</div>"
      ],
      "text/plain": [
       "                  descricaoProdutoServico  \\\n",
       "3548  SUPER SAFETY LUVA SUPER LATEX TAM 7   \n",
       "1066    HF.ALHO SUPER ALHO TRITURADO POTE   \n",
       "\n",
       "                                          CHAVE_NF codigoNcmSh  \\\n",
       "3548  12230929296383000179550020000001131016664015    40151900   \n",
       "1066  35230775315333025012550010000424171751243482     7032090   \n",
       "\n",
       "                                                  ncmSh  cfop  quantidade  \\\n",
       "3548  Outras luvas de borracha vulcanizada, não endu...  5102        15.0   \n",
       "1066  Alhos, frescos ou refrigerados, exceto para se...  5102         5.0   \n",
       "\n",
       "     unidade  valorUnitario  valor  \n",
       "3548   PARES          14.90  223.5  \n",
       "1066    UND9           2.78   13.9  "
      ]
     },
     "execution_count": 131,
     "metadata": {},
     "output_type": "execute_result"
    }
   ],
   "source": [
    "df_itens.sample(2)"
   ]
  },
  {
   "cell_type": "markdown",
   "id": "eeca0913",
   "metadata": {},
   "source": [
    "## 4. Exportação dos Dataframes para o formato .csv\n",
    "**Informativo:** Agora que relizado o pré-processamento dos dados, os mesmo serão exportados para o formato .csv para fins da Análise Exploratória dos Dados"
   ]
  },
  {
   "cell_type": "code",
   "execution_count": null,
   "id": "45c09b99",
   "metadata": {},
   "outputs": [],
   "source": [
    "# Definir diretório de saída (pasta processed dentro de data)\n",
    "output_dir = os.path.join(project_root, \"data\", \"processed\")\n",
    "\n",
    "\n",
    "# Exportar df\n",
    "df.to_csv(\n",
    "    os.path.join(output_dir, \"notas_fiscais.csv\"),\n",
    "    index=False,\n",
    "    sep=\";\", \n",
    "    encoding=\"utf-8\"\n",
    ")\n",
    "\n",
    "# Exportar df_itens detalhado\n",
    "df_itens.to_csv(\n",
    "    os.path.join(output_dir, \"itens_notas_fiscais.csv\"),\n",
    "    index=False,\n",
    "    sep=\";\", \n",
    "    encoding=\"utf-8\"\n",
    ")"
   ]
  }
 ],
 "metadata": {
  "kernelspec": {
   "display_name": "Python 3",
   "language": "python",
   "name": "python3"
  },
  "language_info": {
   "codemirror_mode": {
    "name": "ipython",
    "version": 3
   },
   "file_extension": ".py",
   "mimetype": "text/x-python",
   "name": "python",
   "nbconvert_exporter": "python",
   "pygments_lexer": "ipython3",
   "version": "3.13.3"
  }
 },
 "nbformat": 4,
 "nbformat_minor": 5
}
