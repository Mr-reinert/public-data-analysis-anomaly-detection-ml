{
 "cells": [
  {
   "cell_type": "code",
   "execution_count": 2,
   "id": "47fd3a25-1d47-4265-a35d-f19fd92cc381",
   "metadata": {},
   "outputs": [],
   "source": [
    "import os\n",
    "import sys\n",
    "\n",
    "\n",
    "current_dir = os.getcwd()\n",
    "project_root = os.path.abspath(os.path.join(current_dir, '..'))\n",
    "if project_root not in sys.path:\n",
    "    sys.path.append(project_root)\n",
    "\n",
    "import pandas as pd\n",
    "from src.utils.data_cleaning import normalize_text_columns\n",
    "from src.services.db_manager import fetch_data_from_db\n",
    "from src.config import const\n",
    "import unidecode"
   ]
  },
  {
   "cell_type": "markdown",
   "id": "a5c333bd",
   "metadata": {},
   "source": [
    "#### Utilizando a função \"fetch_data_from_db\" para extraimos o nosso Dataframe do Banco de dados PostgreSQL"
   ]
  },
  {
   "cell_type": "code",
   "execution_count": 3,
   "id": "178399a1-98a6-41cc-bbf6-977f92e0ec21",
   "metadata": {},
   "outputs": [],
   "source": [
    "df = fetch_data_from_db(const.consulta_sql)"
   ]
  },
  {
   "cell_type": "markdown",
   "id": "44d3d504",
   "metadata": {},
   "source": [
    "### Tratamento dos dados Municipais, coletados do IBGE, para adicionarmos, o indice populacional no nosso DF"
   ]
  },
  {
   "cell_type": "code",
   "execution_count": 4,
   "id": "fbc1e951-9bf6-498f-8a72-e8473ef19f77",
   "metadata": {},
   "outputs": [
    {
     "data": {
      "text/plain": [
       "array(['PARANAIBA', 'SANTANA DE PARNAIBA', 'HORTOLANDIA', 'PORTO VELHO',\n",
       "       'RIO BRANCO', 'MACEIO', 'FEIJO', 'OSASCO', 'RIBEIRAO PIRES',\n",
       "       'BRASILIA', 'CRUZEIRO DO SUL', 'JARAGUA DO SUL', 'BELO HORIZONTE',\n",
       "       'ITAJAI', 'VILA VELHA', 'PARNAIBA', 'BARUERI', 'PALMAS',\n",
       "       'CARIACICA', 'TERESINA', 'SAO PAULO', 'RECIFE', 'OLINDA',\n",
       "       'FORTALEZA', 'LONDRINA', 'TARAUACA', 'PALHOCA', 'MANAUS',\n",
       "       'BOA VISTA', 'CAMPO GRANDE', 'SENA MADUREIRA', 'S?O LUIS',\n",
       "       'SAO JOSE DOS CAMPOS', 'IBIPORA', 'PORTO WALTER', 'JORDAO',\n",
       "       'MACAPA', 'CURITIBA', 'MARECHAL THAUMATURGO', 'CAJAMAR', 'NITEROI',\n",
       "       'SANTA ROSA DO PURUS', '5300108', 'GOIANIA', 'RIO DE JANEIRO',\n",
       "       'SAO LUIS', 'SÃO LUÍS', 'FLORIANOPOLIS', 'BELEM', 'VARZEA GRANDE',\n",
       "       'ANAPOLIS', 'SALVADOR', 'SAO JOSE', 'SAO GABRIEL DA CACHOEIRA',\n",
       "       'ILHEUS', 'SOROCABA', 'BRASÍLIA', 'UBERABA', 'CAMACARI',\n",
       "       'BARREIRINHAS', 'MONTES CLAROS', 'NATAL', 'PIMENTA BUENO',\n",
       "       'ANANINDEUA', 'DOURADOS', 'FOZ DO IGUACU',\n",
       "       'SAO DOMINGOS DO MARANHAO', 'PELOTAS', 'DIVINOPOLIS', 'VARGINHA',\n",
       "       'PAULISTA', 'CUIABA', 'CASIMIRO DE ABREU', 'SERRA', 'SETE LAGOAS',\n",
       "       'SAO JOSE DO RIO PRETO', 'INDAIAL', 'GURUPI', 'SAO JOAO BATISTA',\n",
       "       'SINOP', 'GOIÂNIA', 'ARACAJU', 'SERRINHA', 'RIO CLARO',\n",
       "       'CANDEIAS DO JAMARI', 'CAMPO GRANDE (MS)', 'ANÁPOLIS', 'TOLEDO',\n",
       "       'PARNAMIRIM', 'VITORIA', 'SÃO PAULO', 'CONTAGEM', 'UBERLANDIA',\n",
       "       'ARAQUARI', 'COTIA', 'CAMPINAS', 'PORTO ALEGRE',\n",
       "       'GOVERNADOR VALADARES', 'OURO PRETO', 'CABIXI', 'IPAMERI',\n",
       "       'GUARAPUAVA', 'PONTA PORA', 'HUMAITA', 'PONTA GROSSA',\n",
       "       'CONCEICAO DO CASTELO', 'BARIRI', 'BETIM', 'CAXIAS DO SUL',\n",
       "       'CANOAS', 'CAMARAGIBE', 'SAO JOSE DE RIBAMAR',\n",
       "       'BALNEARIO CAMBORIU', 'JI-PARANA', 'ILHÉUS', 'ANCHIETA', 'PINHAIS',\n",
       "       'PIRACICABA', 'MARINGA', 'DIADEMA', 'MOSSORO',\n",
       "       'SANTO ANTONIO DE PADUA', 'CUIABA (MT)', 'COLORADO DO OESTE',\n",
       "       'IPATINGA', 'CAMPINA GRANDE', 'DUQUE DE CAXIAS', 'ITAJAÍ',\n",
       "       'TEOFILO OTONI', 'COLATINA', 'TAUBATE', 'GARANHUNS', 'JOAO PESSOA',\n",
       "       'GUARULHOS', 'PATOS DE MINAS', 'JUAZEIRO', 'CARUARU', 'BLUMENAU',\n",
       "       'JABOATAO DOS GUARARAPES', 'CAMBORIU', 'PAULO AFONSO', 'CACOAL',\n",
       "       'CASCAVEL', 'SANTOS', 'MANHUACU', 'ITAPEVA', 'SAO FELIX DO XINGU',\n",
       "       'FREDERICO WESTPHALEN', 'BARAO DE COTEGIPE', 'MANDIRITUBA',\n",
       "       'MARINGÁ', 'ERECHIM', 'NOVA SANTA RITA', 'ARACATUBA',\n",
       "       'SANTA MARIA', 'FORMIGA', 'THEOBROMA', 'JANDIRA', 'MARILIA',\n",
       "       'JATAI', 'BAURU', 'SÃO JOSÉ', 'OURO PRETO DO OESTE',\n",
       "       'SANTA CRUZ DO SUL', 'PETROLINA', 'SANTAREM', 'PRESIDENTE MEDICI',\n",
       "       'CACHOEIRO DE ITAPEMIRIM', 'APARECIDA DE GOIANIA', 'CANDEIAS',\n",
       "       'ARARUAMA', 'SAO JOSE DOS PINHAIS', 'IGARASSU', 'POMERODE',\n",
       "       'NILOPOLIS', 'JOÃO PESSOA', 'UNAI', 'BOTUCATU',\n",
       "       'CORONEL DOMINGOS SOARES', 'SAO JOAO DE MERITI', 'QUIRINOPOLIS',\n",
       "       'VITORIA DA CONQUISTA', 'ALTA FLORESTA', 'SANTO ANTONIO DE JESUS',\n",
       "       'MAGE', 'SANTO ANTONIO DA PLATINA', 'CAMBE', 'EPITACIOLANDIA',\n",
       "       'JUIZ DE FORA', 'SANTA CRUZ DO MONTE CASTELO', 'CABEDELO',\n",
       "       'MOGI DAS CRUZES', 'ILHABELA', 'INHUMAS', 'POUSO ALEGRE',\n",
       "       'NOVA ARACA', 'BENTO GONCALVES', 'MUZAMBINHO', 'VILHENA'],\n",
       "      dtype=object)"
      ]
     },
     "execution_count": 4,
     "metadata": {},
     "output_type": "execute_result"
    }
   ],
   "source": [
    "df.municipioFornecedor.unique()"
   ]
  },
  {
   "cell_type": "code",
   "execution_count": 5,
   "id": "df5288d5-01a2-43ba-bb8a-e4d337323a3d",
   "metadata": {},
   "outputs": [],
   "source": [
    "mun = pd.read_csv(\n",
    "    r\"../data/raw/ibge_municipios.csv\",\n",
    "    sep=\";\",\n",
    "    encoding=\"utf-8\"\n",
    ")\n"
   ]
  },
  {
   "cell_type": "code",
   "execution_count": 6,
   "id": "1b78885f",
   "metadata": {},
   "outputs": [],
   "source": [
    "# Deixa os nomes em Letra maiuscula e remove a acentuação\n",
    "mun = normalize_text_columns(mun)\n",
    "\n",
    "mun[\"COD. IBGE\"] = mun[\"COD. UF\"].astype(str).str.zfill(2) + mun[\"COD. MUNIC\"].astype(str).str.zfill(5)"
   ]
  },
  {
   "cell_type": "code",
   "execution_count": 7,
   "id": "83f9fa9a-df3a-4f51-80d1-3d6dd0057803",
   "metadata": {},
   "outputs": [
    {
     "data": {
      "text/html": [
       "<div>\n",
       "<style scoped>\n",
       "    .dataframe tbody tr th:only-of-type {\n",
       "        vertical-align: middle;\n",
       "    }\n",
       "\n",
       "    .dataframe tbody tr th {\n",
       "        vertical-align: top;\n",
       "    }\n",
       "\n",
       "    .dataframe thead th {\n",
       "        text-align: right;\n",
       "    }\n",
       "</style>\n",
       "<table border=\"1\" class=\"dataframe\">\n",
       "  <thead>\n",
       "    <tr style=\"text-align: right;\">\n",
       "      <th></th>\n",
       "      <th>UF</th>\n",
       "      <th>COD. UF</th>\n",
       "      <th>COD. MUNIC</th>\n",
       "      <th>NOME DO MUNICÍPIO</th>\n",
       "      <th>POPULAÇÃO ESTIMADA</th>\n",
       "      <th>Unnamed: 5</th>\n",
       "      <th>COD. IBGE</th>\n",
       "    </tr>\n",
       "  </thead>\n",
       "  <tbody>\n",
       "    <tr>\n",
       "      <th>5570</th>\n",
       "      <td>DF</td>\n",
       "      <td>53</td>\n",
       "      <td>108</td>\n",
       "      <td>BRASILIA</td>\n",
       "      <td>2.982.818</td>\n",
       "      <td>NaN</td>\n",
       "      <td>5300108</td>\n",
       "    </tr>\n",
       "  </tbody>\n",
       "</table>\n",
       "</div>"
      ],
      "text/plain": [
       "      UF  COD. UF  COD. MUNIC NOME DO MUNICÍPIO POPULAÇÃO ESTIMADA  \\\n",
       "5570  DF       53         108          BRASILIA          2.982.818   \n",
       "\n",
       "      Unnamed: 5 COD. IBGE  \n",
       "5570         NaN   5300108  "
      ]
     },
     "execution_count": 7,
     "metadata": {},
     "output_type": "execute_result"
    }
   ],
   "source": [
    "mun[mun[\"COD. IBGE\"]==\"5300108\"]"
   ]
  }
 ],
 "metadata": {
  "kernelspec": {
   "display_name": "Python 3 (ipykernel)",
   "language": "python",
   "name": "python3"
  },
  "language_info": {
   "codemirror_mode": {
    "name": "ipython",
    "version": 3
   },
   "file_extension": ".py",
   "mimetype": "text/x-python",
   "name": "python",
   "nbconvert_exporter": "python",
   "pygments_lexer": "ipython3",
   "version": "3.13.3"
  }
 },
 "nbformat": 4,
 "nbformat_minor": 5
}
